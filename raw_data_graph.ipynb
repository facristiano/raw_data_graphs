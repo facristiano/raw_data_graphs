{
  "nbformat": 4,
  "nbformat_minor": 0,
  "metadata": {
    "colab": {
      "provenance": [],
      "authorship_tag": "ABX9TyNy58Ic3f+9iKTE4QWAfniK",
      "include_colab_link": true
    },
    "kernelspec": {
      "name": "python3",
      "display_name": "Python 3"
    },
    "language_info": {
      "name": "python"
    }
  },
  "cells": [
    {
      "cell_type": "markdown",
      "metadata": {
        "id": "view-in-github",
        "colab_type": "text"
      },
      "source": [
        "<a href=\"https://colab.research.google.com/github/facristiano/raw_data_graphs/blob/main/raw_data_graph.ipynb\" target=\"_parent\"><img src=\"https://colab.research.google.com/assets/colab-badge.svg\" alt=\"Open In Colab\"/></a>"
      ]
    },
    {
      "cell_type": "code",
      "source": [
        "import numpy as np\n",
        "import pickle\n",
        "import math\n",
        "import yaml\n",
        "import os\n",
        "\n",
        "#load the cofiguration file\n",
        "def load_config(arquivo_yaml):\n",
        "    with open(arquivo_yaml, 'r') as file:\n",
        "        config = yaml.safe_load(file)\n",
        "    return config\n",
        "\n",
        "#load the raw data (downlink or uplink) from the .pkl file\n",
        "def load_raw_data(folder=None,type_link=None):\n",
        "    with open(folder, 'rb') as f:\n",
        "        data_dict = pickle.load(f)\n",
        "        f.close()\n",
        "\n",
        "    raw_data = data_dict[0][type_link]['raw_data']\n",
        "    file_name = os.path.basename(folder)\n",
        "    print('1) The raw data from the ' + file_name + ' has been loaded!')\n",
        "\n",
        "    return raw_data\n",
        "\n",
        "def create_list(min_value, max_value=None, step=1):\n",
        "    if max_value is None:\n",
        "        return [min_value]\n",
        "    return list(range(min_value-1, max_value, step))\n",
        "\n",
        "#loads data whose lists have the same number of elements\n",
        "def load_xy_data(x_axis=None, y_axis=None, bs_ue_list=None, simulation_list =None, raw_data=None):\n",
        "        for i in bs_ue_list:\n",
        "            x0 = raw_data[i][0][x_axis]\n",
        "            y0 = raw_data[i][0][y_axis]\n",
        "            for t in simulation_list:\n",
        "                x1 = raw_data[i][t][x_axis]\n",
        "                x0 = np.concatenate((x0, x1))\n",
        "                y1 = raw_data[i][t][y_axis]\n",
        "                y0 = np.concatenate((y0, y1))\n",
        "\n",
        "        x_data = x0.tolist()\n",
        "        y_data = y0.tolist()\n",
        "        return x_data, y_data\n",
        "\n",
        "def load_data(axis=None, bs_ue_list=None, simulation_list =None, raw_data=None):\n",
        "     x0 = []\n",
        "     axis_name = raw_data[0][0][axis]\n",
        "     axis_dim = len(axis_name)\n",
        "     ue_position = raw_data[0][0]['ue_position']\n",
        "     ue_dim = len(ue_position)\n",
        "     if ue_dim == axis_dim:\n",
        "         for i in bs_ue_list:\n",
        "             for t in simulation_list:\n",
        "                 ue_position = raw_data[i][t]['ue_position']\n",
        "                 ue_dim = len(ue_position)\n",
        "                 for ue in range(0,ue_dim):\n",
        "                      df = raw_data[i][t]['ue_bs_table']['bs_index']\n",
        "                      bs_index = df.loc[ue]\n",
        "                      a=-1\n",
        "                      if bs_index != a:\n",
        "                          x1 = raw_data[i][t][axis][ue]\n",
        "                          x0.append(x1)\n",
        "                      else:\n",
        "                          {}\n",
        "\n",
        "     elif ue_dim != axis_dim:\n",
        "         for i in bs_ue_list:\n",
        "             for t in simulation_list:\n",
        "                   x1 = raw_data[i][t][axis]\n",
        "                   x0 = np.concatenate((x0, x1))\n",
        "\n",
        "     x_data = x0\n",
        "     return x_data\n",
        "\n",
        "def load_distance_data(bs_ue_list=None, simulation_list =None, raw_data=None):\n",
        "    distances = []\n",
        "    distance=[]\n",
        "    for i in bs_ue_list:\n",
        "         distance=[]\n",
        "         for t in simulation_list:\n",
        "                ue_position = raw_data[i][t]['ue_position']\n",
        "                ue_dim = len(ue_position)\n",
        "                for ue in range(0,ue_dim):\n",
        "                       df = raw_data[i][t]['ue_bs_table']['bs_index']\n",
        "                       bs_index = df.loc[ue]\n",
        "                       a=-1\n",
        "                       if bs_index != a:\n",
        "                               ue_x = ue_position[ue][0]\n",
        "                               ue_y = ue_position[ue][1]\n",
        "                               bs_x = raw_data[i][t]['bs_position'][0][0][bs_index][0]\n",
        "                               bs_y = raw_data[i][t]['bs_position'][0][0][bs_index][1]\n",
        "                               distance = ((math.sqrt((bs_x - ue_x) ** 2 + (bs_y - ue_y) ** 2))*30)/1000\n",
        "                               distances.append(distance)\n",
        "    return distances\n",
        "\n",
        "def load_position_data(n_bs=None, n_s =None, raw_data=None):\n",
        "    uex_data=[]\n",
        "    uey_data=[]\n",
        "    bsx_data=[]\n",
        "    bsy_data=[]\n",
        "    uex_off_data=[]\n",
        "    uey_off_data=[]\n",
        "    bs_index_data=[]\n",
        "    i = n_bs\n",
        "    t = n_s\n",
        "    ue_position = raw_data[i][t]['ue_position']\n",
        "    ue_dim = len(ue_position)\n",
        "    for ue in range(0,ue_dim):\n",
        "            df = raw_data[i][t]['ue_bs_table']['bs_index']\n",
        "            bs_index = df.loc[ue]\n",
        "            ue_x = ue_position[ue][0]\n",
        "            ue_y = ue_position[ue][1]\n",
        "            bs_x = raw_data[i][t]['bs_position'][0][0][bs_index][0]\n",
        "            bs_y = raw_data[i][t]['bs_position'][0][0][bs_index][1]\n",
        "            if bs_index != -1:\n",
        "                 bs_index_data.append(bs_index)\n",
        "                 uex_data.append(ue_x)\n",
        "                 uey_data.append(ue_y)\n",
        "                 bsx_data.append(bs_x)\n",
        "                 bsy_data.append(bs_y)\n",
        "            else:\n",
        "                 uex_off_data.append(ue_x)\n",
        "                 uey_off_data.append(ue_y)\n",
        "\n",
        "    uex_data = (np.array(uex_data)*30)/1000\n",
        "    uey_data = (np.array(uey_data)*30)/1000\n",
        "    bsx_data = (np.array(bsx_data)*30)/1000\n",
        "    bsy_data = (np.array(bsy_data)*30)/1000\n",
        "    uex_off_data = (np.array(uex_off_data)*30)/1000\n",
        "    uey_off_data = (np.array(uey_off_data)*30)/1000\n",
        "\n",
        "    return uex_data, uey_data, bsx_data, bsy_data,uex_off_data, uey_off_data, bs_index_data\n",
        "\n",
        "\n",
        "\n",
        "def analyze_simulation_structure(file_path):\n",
        "    \"\"\"\n",
        "    Analyzes the structure of a simulation .pkl file and determines:\n",
        "    - The number of UEs or BSs (based on variation).\n",
        "    - The number of simulations.\n",
        "\n",
        "    :param file_path: Path to the .pkl file.\n",
        "    \"\"\"\n",
        "    try:\n",
        "        # Load the pickle file\n",
        "        with open(file_path, 'rb') as file:\n",
        "            data = pickle.load(file)\n",
        "\n",
        "        # Initialize variables\n",
        "        num_ues = 0\n",
        "        num_bss = 0\n",
        "        num_simulations = 0\n",
        "\n",
        "        # Check if 'downlink_data' exists and contains the relevant information\n",
        "        if isinstance(data, list) and len(data) > 0 and isinstance(data[0], dict):\n",
        "            downlink_data = data[0].get(\"downlink_data\", {})\n",
        "            if isinstance(downlink_data, dict):\n",
        "                # Get BSs and UEs list\n",
        "                ues = downlink_data.get(\"UEs\", [])\n",
        "                bss = downlink_data.get(\"BSs\", [])\n",
        "\n",
        "                # Store number of UEs and BSs\n",
        "                num_ues = len(ues)\n",
        "                num_bss = len(bss)\n",
        "\n",
        "                # Get number of simulations from raw_data list\n",
        "                raw_data = downlink_data.get(\"raw_data\", [])\n",
        "                # Assuming raw_data[0] contains the simulation count\n",
        "                num_simulations = len(raw_data[0]) if raw_data else 0\n",
        "\n",
        "        # Check if BSs or UEs have varying quantities\n",
        "        if num_bss > 1:  # If BSs vary\n",
        "            variation_type = \"BSs\"\n",
        "            variation_quantity = num_bss\n",
        "        elif num_ues > 1:  # If UEs vary\n",
        "            variation_type = \"UEs\"\n",
        "            variation_quantity = num_ues\n",
        "        else:\n",
        "            variation_type = \"None\"\n",
        "            variation_quantity = 0\n",
        "\n",
        "        # Print results\n",
        "        print(f\"Variation Type: {variation_type}\")\n",
        "        print(f\"Variation Quantity: {variation_quantity}\")\n",
        "        print(f\"Number of Simulations: {num_simulations}\")\n",
        "\n",
        "    except Exception as e:\n",
        "        print(f\"Error processing the .pkl file: {e}\")\n",
        "\n",
        "# Example usage\n",
        "# analyze_simulation_structure('path_to_simulation.pkl')\n",
        "\n",
        "def press_any_key_to_continue():\n",
        "    input(\"Press any key to continue...\")\n"
      ],
      "metadata": {
        "id": "jM1VckV38Wmj"
      },
      "execution_count": null,
      "outputs": []
    },
    {
      "cell_type": "code",
      "source": [
        "import matplotlib.pyplot as plt\n",
        "import seaborn as sns\n",
        "import os\n",
        "from datetime import datetime\n",
        "import io\n",
        "from PIL import Image\n",
        "\n",
        "\n",
        "#customize the graph\n",
        "def customize_graph (title=None, xlabel=None, ylabel=None, auto_scale=True, xlim=None, ylim=None, figsize=None,resolution=None, grid=None):\n",
        "        plt.figure(figsize=figsize, dpi=resolution)\n",
        "        plt.title(title)\n",
        "        plt.xlabel(xlabel)\n",
        "        plt.ylabel(ylabel)\n",
        "        match auto_scale:\n",
        "            case 'True':\n",
        "                plt.autoscale()\n",
        "            case 'False':\n",
        "                plt.xlim(xlim)\n",
        "                plt.ylim(ylim)\n",
        "        plt.grid(grid)\n",
        "\n",
        "        return ()\n",
        "\n",
        "# save de graph\n",
        "def save_graph(complete=None, save_as=None, time=None, x_var=None, y_var=None, x_data=None, y_data=None):\n",
        "\n",
        "    output_dir = os.path.join(\"draw_output\", time)\n",
        "    os.makedirs(output_dir, exist_ok=True)\n",
        "    save_path = os.path.join(output_dir, save_as)\n",
        "\n",
        "    if complete == False:\n",
        "        plt.show()\n",
        "        print('2) Your graph is ready!')\n",
        "        s = input(\"3) Do you want to save(y/n)?:\")\n",
        "        match s:\n",
        "            case \"y\":\n",
        "                plt.savefig(save_path)\n",
        "                df = pd.DataFrame({x_var: x_data, y_var: y_data})\n",
        "                df.to_csv(save_path, index=False)\n",
        "            case \"n\":\n",
        "                print(\"4) Make the desired changes to config.yml!\")\n",
        "            case _:\n",
        "                print(\"Value not accepted!\")\n",
        "    else:\n",
        "        plt.savefig(save_path)\n",
        "        plt.close()\n",
        "        df = pd.DataFrame({x_var: x_data, y_var: y_data})\n",
        "        df.to_csv(save_path, index=False)\n",
        "\n",
        "    return ()\n",
        "\n",
        "# draw the graph\n",
        "def draw_graph (x_var=None, y_var=None, n_bs=None, n_s=None, figsize=None, resolution=None, title=None, xlabel=None, ylabel=None, auto_scale=True, xlim=None, ylim=None, grid=None, raw_data=None):\n",
        "        if x_var == 'distance' or y_var == 'distance':\n",
        "              if x_var == 'distance':\n",
        "                     x_data = load_distance_data(n_bs, n_s, raw_data)\n",
        "                     y_data = load_data(y_var,n_bs,n_s, raw_data)\n",
        "              else:\n",
        "                     y_data = load_distance_data(n_bs,n_s,raw_data)\n",
        "                     x_data = load_data(x_var,n_bs,n_s,raw_data)\n",
        "\n",
        "        else:\n",
        "           x_data, y_data = load_xy_data(x_var,y_var,n_bs,n_s, raw_data)\n",
        "\n",
        "        #customize the graph\n",
        "        customize_graph (title, xlabel, ylabel, auto_scale=True, xlim=None, ylim=None)\n",
        "\n",
        "        #draw the graph\n",
        "        match graph_type:\n",
        "            case 'scatter':\n",
        "                fig =  sns.scatterplot(x=x_data, y=y_data,size=1)\n",
        "            case 'line':\n",
        "                fig = sns.lineplot(x=x_data, y=y_data)\n",
        "            case 'boxplot':\n",
        "                fig = sns.boxplot(x=x_data, y=y_data)\n",
        "            case 'bar':\n",
        "                fig = sns.barplot(x=x_data, y=y_data, ci=None)\n",
        "            case 'histplot':\n",
        "                fig = sns.histplot(x_data)\n",
        "            case _:\n",
        "                print(\"Check the 'graph_type' parameter!\")\n",
        "        save_graph(False, save_as, x_var, y_var, x_data, y_data)\n",
        "\n",
        "        return ()\n",
        "\n",
        "\n",
        "def draw_map (uex_data, uey_data, bsx_data, bsy_data,uex_off_data, uey_off_data, bs_index_data, title, xlabel, ylabel, auto_scale=True, xlim=None, ylim=None,figsize=None,resolution=None, save_as=None, complete=False, grid=None, time=None ):\n",
        "                customize_graph(title, xlabel, ylabel, auto_scale, xlim, ylim, figsize, resolution, grid)\n",
        "                test = len(uex_off_data)\n",
        "                if test != 0:\n",
        "                    fig = sns.scatterplot(x=uex_off_data, y=uey_off_data, marker='o', size=uex_off_data,sizes=(10,10), color='black', legend=False)\n",
        "                else:\n",
        "                     {}\n",
        "                fig = sns.scatterplot(x=bsx_data, y=bsy_data, hue=bs_index_data, marker='^', size=bsx_data, sizes=(200,200),legend=False, palette=\"rainbow\")\n",
        "                fig = sns.scatterplot(x=uex_data, y=uey_data,hue=bs_index_data, marker='o',size=uex_data,sizes=(10,10),legend=False, palette=\"rainbow\")\n",
        "                save_graph(complete,save_as, time)\n",
        "\n",
        "                return ()\n",
        "\n",
        "\n"
      ],
      "metadata": {
        "id": "yRobvXGd8l79"
      },
      "execution_count": null,
      "outputs": []
    },
    {
      "cell_type": "code",
      "source": [
        "import matplotlib.pyplot as plt\n",
        "import seaborn as sns\n",
        "import io\n",
        "import os\n",
        "from datetime import datetime\n",
        "from PIL import Image\n",
        "import pandas as pd\n",
        "#from load_data import load_config, load_raw_data, load_xy_data, #load_position_data, load_distance_data, load_data\n",
        "#from plot_data import draw_map\n",
        "from scipy.interpolate import make_interp_spline\n",
        "import numpy as np\n",
        "\n",
        "print('Modify the config.yml file, keeping in mind that:\\n')\n",
        "analyze_simulation_structure ('/content/08_08_2024-02_18_27.pkl')\n",
        "print()\n",
        "press_any_key_to_continue()\n",
        "\n",
        "#load the configuration file\n",
        "config = load_config('config.yml')\n",
        "\n",
        "#load the raw data (downlink or uplink) from the .pkl file\n",
        "raw_data = load_raw_data (config['general']['file'], config['general']['type_link'])\n",
        "\n",
        "#load simulation_list and bs_ue_list\n",
        "simulation_list = create_list(config['general']['s_min'], config['general']['s_max'], config['general']['s_step'])\n",
        "bs_ue_list = create_list(config['general']['bs_ue_min'], config['general']['bs_ue_max'], config['general']['bs_ue_step'])\n",
        "\n",
        "\n",
        "#load position data\n",
        "#uex_data, uey_data, bsx_data, bsy_data,uex_off_data, uey_off_data,#bs_index_data = load_position_data(config['general']['n_bs'], config['general']#['n_s'], raw_data)\n",
        "\n",
        "time = datetime.now().strftime(\"%Y-%m-%d_%H-%M-%S\")\n",
        "\n",
        "if config['general']['make'] == 'graph':\n",
        "    if config['graph']['x_var'] == 'distance' or config['graph']['y_var']=='distance':\n",
        "        if config['graph']['x_var']=='distance':\n",
        "              x_data = load_distance_data(bs_ue_list, simulation_list, raw_data)\n",
        "              y_data = load_data(config['graph']['y_var'],bs_ue_list,simulation_list, raw_data)\n",
        "        else:\n",
        "              y_data = load_distance_data(bs_ue_list, simulation_list, raw_data)\n",
        "              x_data = load_data(config['graph']['y_var'],bs_ue_list,simulation_list, raw_data)\n",
        "\n",
        "    else:\n",
        "        x_data, y_data = load_xy_data(config['graph']['x_var'],config['graph']['y_var'],bs_ue_list,simulation_list, raw_data)\n",
        "\n",
        "    #customize the graph\n",
        "    plt.figure(figsize=tuple(config['graph']['figsize']), dpi=config['graph']['resolution'])\n",
        "    plt.title(config['graph']['title'])\n",
        "    plt.xlabel(config['graph']['xlabel'])\n",
        "    plt.ylabel(config['graph']['ylabel'])\n",
        "    match config['graph']['auto_scale']:\n",
        "        case 'True':\n",
        "            plt.autoscale()\n",
        "            plt.grid(config['graph']['grid'])\n",
        "        case 'False':\n",
        "            plt.xlim((config['graph']['xlim']))\n",
        "            plt.ylim(config['graph']['ylim'])\n",
        "            plt.grid(config['graph']['grid'])\n",
        "\n",
        "\n",
        "    #draw the graph\n",
        "    match config['graph']['graph_type']:\n",
        "        case 'scatter':\n",
        "            fig =  sns.scatterplot(x=x_data, y=y_data, color='purple', size=y_data, sizes=(1,1), legend=False)\n",
        "        case 'line':\n",
        "            if config['graph']['x_var'] == 'distance' or config['graph']['y_var'] == 'distance':\n",
        "                data_long = pd.DataFrame({\"x\": x_data, \"y\": y_data})\n",
        "                data_long = data_long.sort_values(by=\"x\").groupby(\"x\", as_index=False).mean()\n",
        "                x_smooth = np.linspace(data_long[\"x\"].min(), data_long[\"x\"].max(), 500)  # Mais pontos para suavização\n",
        "                spl = make_interp_spline(data_long[\"x\"], data_long[\"y\"], k=1)  # k=3 para spline cúbica\n",
        "                y_smooth = spl(x_smooth)\n",
        "                print(data_long)\n",
        "                sns.lineplot(data=data_long, x='x', y='y', color=\"blue\")\n",
        "                #sns.regplot(data=data_long, x=\"x\", y=\"y\", order=5, ci=None, color=\"blue\", scatter=False)\n",
        "            else:\n",
        "                fig = sns.lineplot(x=x_data, y=y_data)\n",
        "        case 'boxplot':\n",
        "            fig = sns.boxplot(x=x_data, y=y_data)\n",
        "        case 'bar':\n",
        "            fig = sns.barplot(x=x_data, y=y_data, ci=None)\n",
        "        case 'histplot':\n",
        "            fig = sns.histplot(x_data)\n",
        "        case _:\n",
        "            print(\"Check the 'graph_type' parameter!\")\n",
        "\n",
        "    # save the graph\n",
        "    buf = io.BytesIO()\n",
        "    plt.savefig(buf, format='png')\n",
        "    buf.seek(0)\n",
        "    plt.close()\n",
        "    imagem1 = Image.open(buf)\n",
        "    imagem1.show()\n",
        "    print('2) Your graph is ready!')\n",
        "    s = input(\"3) Do you want to save your graph(y/n)?:\")\n",
        "    match s:\n",
        "        case \"y\":\n",
        "            output_dir = os.path.join(\"draw_output\", time)\n",
        "            os.makedirs(output_dir, exist_ok=True)\n",
        "            imagem1.save(os.path.join(output_dir, config['graph']['save_as'] + '.png'))\n",
        "            df = pd.DataFrame({config['graph']['x_var']: x_data,config['graph']['y_var']: y_data})\n",
        "            df.to_csv(os.path.join(output_dir, config['graph']['save_as'] + '.csv'), index=False)\n",
        "            print(\"4) Graphic saved as \" + str(config['graph']['save_as']) + \"!\")\n",
        "        case _:\n",
        "            print (\"4) Make the desired changes to config.yml!\")\n",
        "\n",
        "\n",
        "elif config['general']['make'] == 'map':\n",
        "\n",
        "    #draw maps (complete == true --> draw all maps | complete == false --> draw a specific map)\n",
        "    if config['map']['complete'] == True:\n",
        "        for t in bs_ue_list:\n",
        "            for i in simulation_list:\n",
        "                title = config['map']['title'] +  ' (' + str(t+1)  + ' BSs, simulation ' + str(i+1) + ')'\n",
        "                save_as = str(t+1) +' BSs and ' + str(i+1) + ' simulation_' + config['map']['save_as']\n",
        "                uex_data, uey_data, bsx_data, bsy_data,uex_off_data, uey_off_data,bs_index_data = load_position_data(t, i, raw_data)\n",
        "                draw_map(uex_data, uey_data, bsx_data, bsy_data,uex_off_data, uey_off_data, bs_index_data, title,config['map']['xlabel'], config['map']['ylabel'], config['map']['auto_scale'], config['map']['xlim'], config['map']['ylim'], config['map']['figsize'], config['map']['resolution'], save_as, config['map']['complete'],config['map']['grid'],time )\n",
        "    elif config['map']['complete'] == False:\n",
        "        uex_data, uey_data, bsx_data, bsy_data,uex_off_data, uey_off_data,bs_index_data = load_position_data(config['general']['bs_ue_min'], config['general']['s_min'], raw_data)\n",
        "        draw_map(uex_data, uey_data, bsx_data, bsy_data,uex_off_data, uey_off_data, bs_index_data, config['map']['title'],config['map']['xlabel'], config['map']['ylabel'], config['map']['auto_scale'], config['map']['xlim'], config['map']['ylim'], config['map']['figsize'], config['map']['resolution'], config['map']['save_as'], config['map']['complete'],config['map']['grid'],time)\n",
        "    else:\n",
        "        print('Complete just be True or False!')\n",
        "\n",
        "else:\n",
        "    print(\"The variable make just be 'map' or 'graph'!\")"
      ],
      "metadata": {
        "colab": {
          "base_uri": "https://localhost:8080/"
        },
        "id": "7JkpPjrv857y",
        "outputId": "a0cc20ad-e522-43a7-dc11-66e7e07fc899"
      },
      "execution_count": null,
      "outputs": [
        {
          "output_type": "stream",
          "name": "stdout",
          "text": [
            "Modify the config.yml file, keeping in mind that:\n",
            "\n",
            "Variation Type: BSs\n",
            "Variation Quantity: 20\n",
            "Number of Simulations: 60\n",
            "\n",
            "Press any key to continue...\n",
            "1) The raw data from the 08_08_2024-02_18_27.pkl has been loaded!\n",
            "2) Your graph is ready!\n",
            "3) Do you want to save your graph(y/n)?:y\n",
            "4) Graphic saved as graph_capacity_distance!\n"
          ]
        }
      ]
    },
    {
      "cell_type": "code",
      "source": [
        "print(output_dir)"
      ],
      "metadata": {
        "colab": {
          "base_uri": "https://localhost:8080/"
        },
        "id": "M8-ezH2EkS6T",
        "outputId": "c8778bd5-6462-45df-ee28-356933e600c1"
      },
      "execution_count": null,
      "outputs": [
        {
          "output_type": "stream",
          "name": "stdout",
          "text": [
            "draw_output/2024-12-16_03-42-38\n"
          ]
        }
      ]
    },
    {
      "cell_type": "code",
      "source": [
        "from google.colab import drive\n",
        "drive.mount('/content/drive')"
      ],
      "metadata": {
        "colab": {
          "base_uri": "https://localhost:8080/"
        },
        "id": "h2IGTuxHlbqn",
        "outputId": "4d3ecc47-96a3-4cd5-d31e-8a4232069275"
      },
      "execution_count": null,
      "outputs": [
        {
          "output_type": "stream",
          "name": "stdout",
          "text": [
            "Mounted at /content/drive\n"
          ]
        }
      ]
    },
    {
      "cell_type": "code",
      "source": [
        "simulation_list = create_list(config['general']['s_min'], config['general']['s_max'], config['general']['s_step'])\n",
        "bs_ue_list = create_list(config['general']['bs_ue_min'], config['general']['bs_ue_max'], config['general']['bs_ue_step'])\n"
      ],
      "metadata": {
        "id": "yajZSBi488GD"
      },
      "execution_count": null,
      "outputs": []
    },
    {
      "cell_type": "code",
      "source": [
        "print(simulation_list)\n",
        "print(bs_ue_list)"
      ],
      "metadata": {
        "colab": {
          "base_uri": "https://localhost:8080/"
        },
        "id": "ushcgkupA1XS",
        "outputId": "13c3b729-bb0d-45bd-d14e-efac3a7a2aa7"
      },
      "execution_count": null,
      "outputs": [
        {
          "output_type": "stream",
          "name": "stdout",
          "text": [
            "[1]\n",
            "[1]\n"
          ]
        }
      ]
    },
    {
      "cell_type": "code",
      "source": [
        "for i in simulation_list:\n",
        "    print (i)"
      ],
      "metadata": {
        "colab": {
          "base_uri": "https://localhost:8080/"
        },
        "id": "OSHPOoF7BOTq",
        "outputId": "350ee831-3eca-47d6-8897-d67741465991"
      },
      "execution_count": null,
      "outputs": [
        {
          "output_type": "stream",
          "name": "stdout",
          "text": [
            "1\n"
          ]
        }
      ]
    },
    {
      "cell_type": "code",
      "source": [
        "# Gerar a paleta 'rainbow' com 30 cores\n",
        "palette = sns.color_palette(\"rainbow\",30)\n",
        "\n",
        "# A primeira cor da paleta (índice 0)\n",
        "first_color = palette[0]\n",
        "\n",
        "# Plotar a cor em um gráfico\n",
        "plt.imshow([[first_color]])\n",
        "plt.axis('off')  # Desativar os eixos para visualizar apenas a cor\n",
        "plt.show()"
      ],
      "metadata": {
        "colab": {
          "base_uri": "https://localhost:8080/",
          "height": 406
        },
        "id": "Gsa5hSzwTYEL",
        "outputId": "592cafb9-bab3-49ce-dc7b-c3d0182b1a31"
      },
      "execution_count": null,
      "outputs": [
        {
          "output_type": "display_data",
          "data": {
            "text/plain": [
              "<Figure size 640x480 with 1 Axes>"
            ],
            "image/png": "[encoded data removed]"
          },
          "metadata": {}
        }
      ]
    },
    {
      "cell_type": "code",
      "source": [
        "import numpy as np\n",
        "import pandas as pd\n",
        "\n",
        "def load_media_data(axis=None, bs_ue_list=None, simulation_list=None, raw_data=None):\n",
        "    data = []\n",
        "    for bs in bs_ue_list:\n",
        "        for sim in simulation_list:\n",
        "            media = np.mean(raw_data[bs][sim][axis])\n",
        "            data.append({'bs': bs, f'media por simulação (axis={axis})': media})\n",
        "\n",
        "    df = pd.DataFrame(data)\n",
        "\n",
        "    return df"
      ],
      "metadata": {
        "id": "lxxEILzm4MC6"
      },
      "execution_count": null,
      "outputs": []
    },
    {
      "cell_type": "code",
      "source": [],
      "metadata": {
        "id": "78b7tPC-8B2e"
      },
      "execution_count": null,
      "outputs": []
    },
    {
      "cell_type": "code",
      "source": [
        "config = load_config('config.yml')\n",
        "\n",
        "raw_data = load_raw_data (config['general']['file'], config['general']['type_link'])\n",
        "\n",
        "simulation_list = create_list(config['general']['s_min'], config['general']['s_max'], config['general']['s_step'])\n",
        "bs_ue_list = create_list(config['general']['bs_ue_min'], config['general']['bs_ue_max'], config['general']['bs_ue_step'])"
      ],
      "metadata": {
        "colab": {
          "base_uri": "https://localhost:8080/"
        },
        "id": "l9X5KdTs7zpf",
        "outputId": "774cf368-9d6d-4cd0-db4f-497327a88d29"
      },
      "execution_count": null,
      "outputs": [
        {
          "output_type": "stream",
          "name": "stdout",
          "text": [
            "1) The raw data from the 08_08_2024-02_18_27.pkl has been loaded!\n"
          ]
        }
      ]
    },
    {
      "cell_type": "code",
      "source": [
        "df = load_media_data (config['graph']['x_var'], bs_ue_list, simulation_list, raw_data)\n",
        "\n",
        "df['bs'] += 1"
      ],
      "metadata": {
        "id": "5a9DrZT76nNJ"
      },
      "execution_count": null,
      "outputs": []
    },
    {
      "cell_type": "code",
      "source": [
        "import seaborn as sns\n",
        "import matplotlib.pyplot as plt\n",
        "\n",
        "axis = config['graph']['x_var']\n",
        "plt.figure(figsize=(8, 6))\n",
        "\n",
        "# Cria o gráfico\n",
        "sns.lineplot(\n",
        "    data=df,\n",
        "    x='bs',  # Número de BS no eixo x\n",
        "    y=f'media por simulação (axis={axis})',\n",
        "    marker='o',\n",
        "    palette='viridis',  # Paleta de cores\n",
        ")\n",
        "\n",
        "# Títulos e rótulos\n",
        "plt.title(\"Deficit x Number of BSs\", fontsize=14)\n",
        "plt.xlabel(\"Number of BSs\", fontsize=12)\n",
        "plt.ylabel(\"Deficit (Mbps)\", fontsize=12)\n",
        "plt.xlim(1, 15)\n",
        "plt.xticks(ticks=list(range(1, 16)), labels=list(range(1, 16)))\n",
        "plt.tight_layout()\n",
        "\n",
        "plt.savefig(\"grafico_deficit.png\", dpi=600)\n",
        "\n",
        "# Exibe o gráfico\n",
        "plt.show()"
      ],
      "metadata": {
        "colab": {
          "base_uri": "https://localhost:8080/",
          "height": 652
        },
        "id": "8qq7-Epa9SJ5",
        "outputId": "c47f3e7f-adf3-443f-88c0-817d24f1ca1c"
      },
      "execution_count": null,
      "outputs": [
        {
          "output_type": "stream",
          "name": "stderr",
          "text": [
            "<ipython-input-48-f9372116a736>:8: UserWarning: Ignoring `palette` because no `hue` variable has been assigned.\n",
            "  sns.lineplot(\n"
          ]
        },
        {
          "output_type": "display_data",
          "data": {
            "text/plain": [
              "<Figure size 800x600 with 1 Axes>"
            ],
            "image/png": "[encoded data removed]"
          },
          "metadata": {}
        }
      ]
    }
  ]
}